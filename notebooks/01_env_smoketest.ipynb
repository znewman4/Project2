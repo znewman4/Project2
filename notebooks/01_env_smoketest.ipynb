{
 "cells": [
  {
   "cell_type": "code",
   "execution_count": null,
   "id": "c3269310",
   "metadata": {
    "vscode": {
     "languageId": "plaintext"
    }
   },
   "outputs": [],
   "source": [
    "from src.env.trading_env import TradingEnv\n",
    "from src.utils.io import load_yaml_config\n",
    "import pandas as pd\n",
    "\n",
    "# Load config\n",
    "config = load_yaml_config(\"configs/env.yaml\")\n",
    "\n",
    "# Fake dataset\n",
    "df = pd.DataFrame({\"Close\": range(100)})\n",
    "\n",
    "# Init env\n",
    "env = TradingEnv(df, config)\n",
    "obs = env.reset()\n",
    "\n",
    "print(obs.shape)  # should be (10,)\n",
    "print(obs)        # sanity check values\n"
   ]
  }
 ],
 "metadata": {
  "language_info": {
   "name": "python"
  }
 },
 "nbformat": 4,
 "nbformat_minor": 5
}
